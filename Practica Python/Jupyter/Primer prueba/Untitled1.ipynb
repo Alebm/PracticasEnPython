{
 "cells": [
  {
   "cell_type": "code",
   "execution_count": 4,
   "id": "3b602320-d188-4303-9df2-f999860693c0",
   "metadata": {},
   "outputs": [],
   "source": [
    "import pandas as pd"
   ]
  },
  {
   "cell_type": "code",
   "execution_count": 5,
   "id": "7244e0d9-2f3b-42b1-837b-9689bd721b31",
   "metadata": {},
   "outputs": [],
   "source": [
    "# datos de RRSS 2020\n",
    "fbk = ['Facebook',2449,True,2006]\n",
    "twt = ['Twitter',339,False,2006]\n",
    "ig = ['Instagram',1000,True,2010]\n",
    "yt = ['Youtube',2000,False,2005]\n",
    "lkn = ['LinkedIn',663,False,2003]\n",
    "wsp = ['WhatsApp',1600,True,2009]\n"
   ]
  },
  {
   "cell_type": "code",
   "execution_count": 6,
   "id": "3c47fec9-8340-461d-afc3-6ace7a280153",
   "metadata": {},
   "outputs": [],
   "source": [
    "listas_rrss = [fbk,twt,ig,yt,lkn,wsp]"
   ]
  },
  {
   "cell_type": "code",
   "execution_count": 7,
   "id": "e4266d52-edf4-4987-927e-bbbc747c3284",
   "metadata": {},
   "outputs": [
    {
     "data": {
      "text/html": [
       "<div>\n",
       "<style scoped>\n",
       "    .dataframe tbody tr th:only-of-type {\n",
       "        vertical-align: middle;\n",
       "    }\n",
       "\n",
       "    .dataframe tbody tr th {\n",
       "        vertical-align: top;\n",
       "    }\n",
       "\n",
       "    .dataframe thead th {\n",
       "        text-align: right;\n",
       "    }\n",
       "</style>\n",
       "<table border=\"1\" class=\"dataframe\">\n",
       "  <thead>\n",
       "    <tr style=\"text-align: right;\">\n",
       "      <th></th>\n",
       "      <th>Nombre</th>\n",
       "      <th>Cantidad</th>\n",
       "      <th>eS_FBK</th>\n",
       "      <th>Año</th>\n",
       "    </tr>\n",
       "  </thead>\n",
       "  <tbody>\n",
       "    <tr>\n",
       "      <th>0</th>\n",
       "      <td>Facebook</td>\n",
       "      <td>2449</td>\n",
       "      <td>True</td>\n",
       "      <td>2006</td>\n",
       "    </tr>\n",
       "    <tr>\n",
       "      <th>1</th>\n",
       "      <td>Twitter</td>\n",
       "      <td>339</td>\n",
       "      <td>False</td>\n",
       "      <td>2006</td>\n",
       "    </tr>\n",
       "    <tr>\n",
       "      <th>2</th>\n",
       "      <td>Instagram</td>\n",
       "      <td>1000</td>\n",
       "      <td>True</td>\n",
       "      <td>2010</td>\n",
       "    </tr>\n",
       "    <tr>\n",
       "      <th>3</th>\n",
       "      <td>Youtube</td>\n",
       "      <td>2000</td>\n",
       "      <td>False</td>\n",
       "      <td>2005</td>\n",
       "    </tr>\n",
       "    <tr>\n",
       "      <th>4</th>\n",
       "      <td>LinkedIn</td>\n",
       "      <td>663</td>\n",
       "      <td>False</td>\n",
       "      <td>2003</td>\n",
       "    </tr>\n",
       "    <tr>\n",
       "      <th>5</th>\n",
       "      <td>WhatsApp</td>\n",
       "      <td>1600</td>\n",
       "      <td>True</td>\n",
       "      <td>2009</td>\n",
       "    </tr>\n",
       "  </tbody>\n",
       "</table>\n",
       "</div>"
      ],
      "text/plain": [
       "      Nombre  Cantidad  eS_FBK   Año\n",
       "0   Facebook      2449    True  2006\n",
       "1    Twitter       339   False  2006\n",
       "2  Instagram      1000    True  2010\n",
       "3    Youtube      2000   False  2005\n",
       "4   LinkedIn       663   False  2003\n",
       "5   WhatsApp      1600    True  2009"
      ]
     },
     "execution_count": 7,
     "metadata": {},
     "output_type": "execute_result"
    }
   ],
   "source": [
    "df_rrss= pd.DataFrame(listas_rrss,columns = ['Nombre','Cantidad', 'eS_FBK' , 'Año' ])\n",
    "df_rrss                                             "
   ]
  },
  {
   "cell_type": "code",
   "execution_count": null,
   "id": "a3015f38-5467-4f35-a869-047b364bda62",
   "metadata": {},
   "outputs": [],
   "source": []
  }
 ],
 "metadata": {
  "kernelspec": {
   "display_name": "Python 3 (ipykernel)",
   "language": "python",
   "name": "python3"
  },
  "language_info": {
   "codemirror_mode": {
    "name": "ipython",
    "version": 3
   },
   "file_extension": ".py",
   "mimetype": "text/x-python",
   "name": "python",
   "nbconvert_exporter": "python",
   "pygments_lexer": "ipython3",
   "version": "3.9.7"
  }
 },
 "nbformat": 4,
 "nbformat_minor": 5
}
